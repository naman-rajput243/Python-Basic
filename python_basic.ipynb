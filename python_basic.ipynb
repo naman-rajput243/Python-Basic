{
  "nbformat": 4,
  "nbformat_minor": 0,
  "metadata": {
    "colab": {
      "provenance": []
    },
    "kernelspec": {
      "name": "python3",
      "display_name": "Python 3"
    },
    "language_info": {
      "name": "python"
    }
  },
  "cells": [
    {
      "cell_type": "markdown",
      "source": [
        "1) What is Python, and why is it popular ?\n",
        "\n",
        "Ans) Python is a programming language which helps in translation, abstraction, Software Development and many other things.\n",
        "\n",
        "It is popular because it's easy to learn and use. Also it consists of extensive libraries."
      ],
      "metadata": {
        "id": "ko5LgX8mVbEw"
      }
    },
    {
      "cell_type": "markdown",
      "source": [
        "2) What is an interpreter in Python ?\n",
        "\n",
        "Ans) Interpreter in Python is used to compile the high level language into machine code so that it could be understood by the computer."
      ],
      "metadata": {
        "id": "C8bCPdhrWvX8"
      }
    },
    {
      "cell_type": "markdown",
      "source": [
        "3)  What are pre-defined keywords in Python ?\n",
        "\n",
        "Ans) Pre-defined keywords refers to the reserved word with a predefined meaning which can't be used as identifiers such as name, variable name or function name."
      ],
      "metadata": {
        "id": "cbp7mnjNXs2d"
      }
    },
    {
      "cell_type": "markdown",
      "source": [
        "4) Can keywords be used as variable names ?\n",
        "\n",
        "Ans) No keywords if used as variable names throws error."
      ],
      "metadata": {
        "id": "OM-VjFKAYP4Z"
      }
    },
    {
      "cell_type": "markdown",
      "source": [
        "5) What is mutability in Python ?\n",
        "\n",
        "Ans) Mutability in python means that some data structure's value can be changed or updated such as sets, lists, etc"
      ],
      "metadata": {
        "id": "c1ALQje0YcLE"
      }
    },
    {
      "cell_type": "markdown",
      "source": [
        "6) Why are lists mutable, but tuples are immutable ?\n",
        "\n",
        "Ans) Lists are mutable because it's value can be updated or changed after initializing it.\n",
        "\n",
        "Tuples are immutable because it's value can't be updated or changed once declared."
      ],
      "metadata": {
        "id": "ZhlNBluXY2RB"
      }
    },
    {
      "cell_type": "markdown",
      "source": [
        "7) What is the difference between “==” and “is” operators in Python ?\n",
        "\n",
        "Ans) \"==\" operator compares the value of the two objects\n",
        "\n",
        "\"is\" operator compares the identites of the two objects"
      ],
      "metadata": {
        "id": "_FVvH50GafYj"
      }
    },
    {
      "cell_type": "markdown",
      "source": [
        "8) What are logical operators in Python ?\n",
        "\n",
        "Ans) Logical Operator in python are used to combine conditional statements and evaluate by boolean (True or False) logic"
      ],
      "metadata": {
        "id": "qYvSNUJMbH0A"
      }
    },
    {
      "cell_type": "markdown",
      "source": [
        "9) What is type casting in Python ?\n",
        "\n",
        "Ans) The process of  changing one datatype to another of a variable is called Type Casting."
      ],
      "metadata": {
        "id": "1SRcXpYGbyQ6"
      }
    },
    {
      "cell_type": "markdown",
      "source": [
        "10) What is the difference between implicit and explicit type casting ?\n",
        "\n",
        "Ans) Implicit type casting refers to the automatic change of one datatype to another by the compiler only.\n",
        "\n",
        "Explicit type casting refers to the forceful conversion of one data type to another by the user."
      ],
      "metadata": {
        "id": "oBZNXZXwcJgO"
      }
    },
    {
      "cell_type": "markdown",
      "source": [
        "11) What is the purpose of conditional statements in Python ?\n",
        "\n",
        "Ans) The purpose of the conditional statements is to control the flow of program execution based on certain true or false decision. This enables the decision making for the user."
      ],
      "metadata": {
        "id": "_FAzADG3czeN"
      }
    },
    {
      "cell_type": "markdown",
      "source": [
        "12) How does the elif statement work ?\n",
        "\n",
        "Ans) The elif statement is only executed if the \"if\" condition fails to pass. This helps in the flow of program"
      ],
      "metadata": {
        "id": "LcBQmdWkdu8x"
      }
    },
    {
      "cell_type": "markdown",
      "source": [
        "13) What is the difference between for and while loops ?\n",
        "\n",
        "Ans) For loop is better when used when you know how many types the loop is to be executed\n",
        "\n",
        "On the other hand while loop is used when we have less knowledge about how many time the loop will execute and we only know the condition when to stop."
      ],
      "metadata": {
        "id": "Nc1jZYY5eF0r"
      }
    },
    {
      "cell_type": "markdown",
      "source": [
        "14) Describe a scenario where a while loop is more suitable than a for loop ?\n",
        "\n",
        "Ans) While loop is more suitable when we know only the condition when to stop.\n",
        "\n",
        "A scenario like when the starting value is to be input by the user and we know the terminating point. At that point while loop will be the best option."
      ],
      "metadata": {
        "id": "GuIqjgZCf-Mz"
      }
    },
    {
      "cell_type": "code",
      "source": [
        "# 1) Write a Python program to print \"Hello, World!\"\n",
        "\n",
        "print(\"Hello, World!\")"
      ],
      "metadata": {
        "colab": {
          "base_uri": "https://localhost:8080/"
        },
        "id": "APdOwOqsgqCV",
        "outputId": "e81c2311-4042-4639-d155-94f6d6a654e8"
      },
      "execution_count": null,
      "outputs": [
        {
          "output_type": "stream",
          "name": "stdout",
          "text": [
            "Hello, World!\n"
          ]
        }
      ]
    },
    {
      "cell_type": "code",
      "source": [
        "# 2) Write a Python program that displays your name and age\n",
        "\n",
        "print(\"My name is Naman Singh Rajput \\nMy age is 17 years old\")"
      ],
      "metadata": {
        "colab": {
          "base_uri": "https://localhost:8080/"
        },
        "id": "ShelmbYzhA9y",
        "outputId": "0bb51d5f-21b3-40cd-d011-7d91d95da9be"
      },
      "execution_count": null,
      "outputs": [
        {
          "output_type": "stream",
          "name": "stdout",
          "text": [
            "My name is Naman Singh Rajput \n",
            "My age is 17 years old\n"
          ]
        }
      ]
    },
    {
      "cell_type": "code",
      "source": [
        "# 3) Write code to print all the pre-defined keywords in Python using the keyword library8\n",
        "\n",
        "help('keywords')"
      ],
      "metadata": {
        "colab": {
          "base_uri": "https://localhost:8080/"
        },
        "id": "cVBRXMArhY--",
        "outputId": "b1f0bde3-f7e3-4d11-b6b4-c972508f0da0"
      },
      "execution_count": null,
      "outputs": [
        {
          "output_type": "stream",
          "name": "stdout",
          "text": [
            "\n",
            "Here is a list of the Python keywords.  Enter any keyword to get more help.\n",
            "\n",
            "False               class               from                or\n",
            "None                continue            global              pass\n",
            "True                def                 if                  raise\n",
            "and                 del                 import              return\n",
            "as                  elif                in                  try\n",
            "assert              else                is                  while\n",
            "async               except              lambda              with\n",
            "await               finally             nonlocal            yield\n",
            "break               for                 not                 \n",
            "\n"
          ]
        }
      ]
    },
    {
      "cell_type": "code",
      "source": [
        "# 4) Write a program that checks if a given word is a Python keyword.\n",
        "\n",
        "a = input(\"Enter the word to be checked\")\n",
        "if keyword.iskeyword(a):\n",
        "  print(\"It is a keyword\")\n",
        "else:\n",
        "  print(\"It is not a keyword\")\n",
        "\n"
      ],
      "metadata": {
        "colab": {
          "base_uri": "https://localhost:8080/",
          "height": 228
        },
        "id": "s9VUVnJgiGC8",
        "outputId": "3886e475-ea54-4e49-f511-40f8651d44a4"
      },
      "execution_count": null,
      "outputs": [
        {
          "name": "stdout",
          "output_type": "stream",
          "text": [
            "Enter the word to be checkedfor\n"
          ]
        },
        {
          "output_type": "error",
          "ename": "NameError",
          "evalue": "name 'keyword' is not defined",
          "traceback": [
            "\u001b[0;31m---------------------------------------------------------------------------\u001b[0m",
            "\u001b[0;31mNameError\u001b[0m                                 Traceback (most recent call last)",
            "\u001b[0;32m<ipython-input-10-8d8dc12200ca>\u001b[0m in \u001b[0;36m<cell line: 0>\u001b[0;34m()\u001b[0m\n\u001b[1;32m      2\u001b[0m \u001b[0;34m\u001b[0m\u001b[0m\n\u001b[1;32m      3\u001b[0m \u001b[0ma\u001b[0m \u001b[0;34m=\u001b[0m \u001b[0minput\u001b[0m\u001b[0;34m(\u001b[0m\u001b[0;34m\"Enter the word to be checked\"\u001b[0m\u001b[0;34m)\u001b[0m\u001b[0;34m\u001b[0m\u001b[0;34m\u001b[0m\u001b[0m\n\u001b[0;32m----> 4\u001b[0;31m \u001b[0;32mif\u001b[0m \u001b[0mkeyword\u001b[0m\u001b[0;34m.\u001b[0m\u001b[0miskeyword\u001b[0m\u001b[0;34m(\u001b[0m\u001b[0ma\u001b[0m\u001b[0;34m)\u001b[0m\u001b[0;34m:\u001b[0m\u001b[0;34m\u001b[0m\u001b[0;34m\u001b[0m\u001b[0m\n\u001b[0m\u001b[1;32m      5\u001b[0m   \u001b[0mprint\u001b[0m\u001b[0;34m(\u001b[0m\u001b[0;34m\"It is a keyword\"\u001b[0m\u001b[0;34m)\u001b[0m\u001b[0;34m\u001b[0m\u001b[0;34m\u001b[0m\u001b[0m\n\u001b[1;32m      6\u001b[0m \u001b[0;32melse\u001b[0m\u001b[0;34m:\u001b[0m\u001b[0;34m\u001b[0m\u001b[0;34m\u001b[0m\u001b[0m\n",
            "\u001b[0;31mNameError\u001b[0m: name 'keyword' is not defined"
          ]
        }
      ]
    },
    {
      "cell_type": "code",
      "source": [
        "# 5) Create a list and tuple in Python, and demonstrate how attempting to change an element works differently\n",
        "# for each\n",
        "\n",
        "list1 = [\"Naman\", 123, 93.5, True]\n",
        "\n",
        "tuple1 = (\"Raman\", 321, 85.5, False)\n",
        "\n",
        "list1[2] = 99.5\n",
        "tuple1[2] = 95.5     # Value can't be updated\n",
        "\n",
        "print(list1)\n",
        "print(tuple1)"
      ],
      "metadata": {
        "colab": {
          "base_uri": "https://localhost:8080/",
          "height": 211
        },
        "id": "z49BGWqJjWOG",
        "outputId": "f89892db-859d-4444-df5b-df20083367b1"
      },
      "execution_count": null,
      "outputs": [
        {
          "output_type": "error",
          "ename": "TypeError",
          "evalue": "'tuple' object does not support item assignment",
          "traceback": [
            "\u001b[0;31m---------------------------------------------------------------------------\u001b[0m",
            "\u001b[0;31mTypeError\u001b[0m                                 Traceback (most recent call last)",
            "\u001b[0;32m<ipython-input-13-66e9100dcadf>\u001b[0m in \u001b[0;36m<cell line: 0>\u001b[0;34m()\u001b[0m\n\u001b[1;32m      7\u001b[0m \u001b[0;34m\u001b[0m\u001b[0m\n\u001b[1;32m      8\u001b[0m \u001b[0mlist1\u001b[0m\u001b[0;34m[\u001b[0m\u001b[0;36m2\u001b[0m\u001b[0;34m]\u001b[0m \u001b[0;34m=\u001b[0m \u001b[0;36m99.5\u001b[0m\u001b[0;34m\u001b[0m\u001b[0;34m\u001b[0m\u001b[0m\n\u001b[0;32m----> 9\u001b[0;31m \u001b[0mtuple1\u001b[0m\u001b[0;34m[\u001b[0m\u001b[0;36m2\u001b[0m\u001b[0;34m]\u001b[0m \u001b[0;34m=\u001b[0m \u001b[0;36m95.5\u001b[0m\u001b[0;34m\u001b[0m\u001b[0;34m\u001b[0m\u001b[0m\n\u001b[0m\u001b[1;32m     10\u001b[0m \u001b[0;34m\u001b[0m\u001b[0m\n\u001b[1;32m     11\u001b[0m \u001b[0mprint\u001b[0m\u001b[0;34m(\u001b[0m\u001b[0mlist1\u001b[0m\u001b[0;34m)\u001b[0m\u001b[0;34m\u001b[0m\u001b[0;34m\u001b[0m\u001b[0m\n",
            "\u001b[0;31mTypeError\u001b[0m: 'tuple' object does not support item assignment"
          ]
        }
      ]
    },
    {
      "cell_type": "code",
      "source": [
        "# 6) Write a function to demonstrate the behavior of mutable and immutable arguments\n",
        "\n",
        "def mutable(lis):\n",
        "  lis[1] = \"Value_Updated\"\n",
        "  print(lis)\n",
        "\n",
        "def immutable(tup):\n",
        "  tup[1] = \"Value_Updated\"\n",
        "  print(tup)\n",
        "\n",
        "mutable([\"Naman\", 123, 93.5, True])\n",
        "immutable((\"Raman\", 321, 85.5, False))"
      ],
      "metadata": {
        "colab": {
          "base_uri": "https://localhost:8080/",
          "height": 315
        },
        "id": "yMedpDk_kQ9Q",
        "outputId": "bad57466-4e9d-4084-a48e-f8c5d890a5d9"
      },
      "execution_count": null,
      "outputs": [
        {
          "output_type": "stream",
          "name": "stdout",
          "text": [
            "['Naman', 'Value_Updated', 93.5, True]\n"
          ]
        },
        {
          "output_type": "error",
          "ename": "TypeError",
          "evalue": "'tuple' object does not support item assignment",
          "traceback": [
            "\u001b[0;31m---------------------------------------------------------------------------\u001b[0m",
            "\u001b[0;31mTypeError\u001b[0m                                 Traceback (most recent call last)",
            "\u001b[0;32m<ipython-input-16-6ace7c12453c>\u001b[0m in \u001b[0;36m<cell line: 0>\u001b[0;34m()\u001b[0m\n\u001b[1;32m     10\u001b[0m \u001b[0;34m\u001b[0m\u001b[0m\n\u001b[1;32m     11\u001b[0m \u001b[0mmutable\u001b[0m\u001b[0;34m(\u001b[0m\u001b[0;34m[\u001b[0m\u001b[0;34m\"Naman\"\u001b[0m\u001b[0;34m,\u001b[0m \u001b[0;36m123\u001b[0m\u001b[0;34m,\u001b[0m \u001b[0;36m93.5\u001b[0m\u001b[0;34m,\u001b[0m \u001b[0;32mTrue\u001b[0m\u001b[0;34m]\u001b[0m\u001b[0;34m)\u001b[0m\u001b[0;34m\u001b[0m\u001b[0;34m\u001b[0m\u001b[0m\n\u001b[0;32m---> 12\u001b[0;31m \u001b[0mimmutable\u001b[0m\u001b[0;34m(\u001b[0m\u001b[0;34m(\u001b[0m\u001b[0;34m\"Raman\"\u001b[0m\u001b[0;34m,\u001b[0m \u001b[0;36m321\u001b[0m\u001b[0;34m,\u001b[0m \u001b[0;36m85.5\u001b[0m\u001b[0;34m,\u001b[0m \u001b[0;32mFalse\u001b[0m\u001b[0;34m)\u001b[0m\u001b[0;34m)\u001b[0m\u001b[0;34m\u001b[0m\u001b[0;34m\u001b[0m\u001b[0m\n\u001b[0m",
            "\u001b[0;32m<ipython-input-16-6ace7c12453c>\u001b[0m in \u001b[0;36mimmutable\u001b[0;34m(tup)\u001b[0m\n\u001b[1;32m      6\u001b[0m \u001b[0;34m\u001b[0m\u001b[0m\n\u001b[1;32m      7\u001b[0m \u001b[0;32mdef\u001b[0m \u001b[0mimmutable\u001b[0m\u001b[0;34m(\u001b[0m\u001b[0mtup\u001b[0m\u001b[0;34m)\u001b[0m\u001b[0;34m:\u001b[0m\u001b[0;34m\u001b[0m\u001b[0;34m\u001b[0m\u001b[0m\n\u001b[0;32m----> 8\u001b[0;31m   \u001b[0mtup\u001b[0m\u001b[0;34m[\u001b[0m\u001b[0;36m1\u001b[0m\u001b[0;34m]\u001b[0m \u001b[0;34m=\u001b[0m \u001b[0;34m\"Value_Updated\"\u001b[0m\u001b[0;34m\u001b[0m\u001b[0;34m\u001b[0m\u001b[0m\n\u001b[0m\u001b[1;32m      9\u001b[0m   \u001b[0mprint\u001b[0m\u001b[0;34m(\u001b[0m\u001b[0mtup\u001b[0m\u001b[0;34m)\u001b[0m\u001b[0;34m\u001b[0m\u001b[0;34m\u001b[0m\u001b[0m\n\u001b[1;32m     10\u001b[0m \u001b[0;34m\u001b[0m\u001b[0m\n",
            "\u001b[0;31mTypeError\u001b[0m: 'tuple' object does not support item assignment"
          ]
        }
      ]
    },
    {
      "cell_type": "code",
      "source": [
        "# 7)  Write a program that performs basic arithmetic operations on two user-input numbers\n",
        "\n",
        "a = int(input(\"Enter the first number\"))\n",
        "b = int(input(\"Enter the first number\"))\n",
        "\n",
        "add = a + b\n",
        "sub = a - b\n",
        "mult = a * b\n",
        "div = a / b\n",
        "pow = a ** b\n",
        "\n",
        "print(\"Addition\", add)\n",
        "print(\"Subtraction\", sub)\n",
        "print(\"Multiplication\", mult)\n",
        "print(\"Division\", div)\n",
        "print(\"Power\", pow)"
      ],
      "metadata": {
        "colab": {
          "base_uri": "https://localhost:8080/"
        },
        "id": "zUyERhzzo1QG",
        "outputId": "6f975ed9-500f-4f75-f3da-1bf6b65d179e"
      },
      "execution_count": null,
      "outputs": [
        {
          "output_type": "stream",
          "name": "stdout",
          "text": [
            "Enter the first number45\n",
            "Enter the first number5\n",
            "Addition 50\n",
            "Subtraction 40\n",
            "Multiplication 225\n",
            "Division 9.0\n",
            "Power 184528125\n"
          ]
        }
      ]
    },
    {
      "cell_type": "code",
      "source": [
        "# 8)  Write a program to demonstrate the use of logical operators.\n",
        "\n",
        "a = 45\n",
        "b = 55\n",
        "\n",
        "if (a > 50 and b > 50):\n",
        "  print(\"Both Number is greater than 50\")\n",
        "elif (a > 50 or b > 50):\n",
        "  print(\"One number is greater than 50\")\n",
        "else:\n",
        "  print(\"No number is greater than 50\")"
      ],
      "metadata": {
        "colab": {
          "base_uri": "https://localhost:8080/"
        },
        "id": "aVqOF0W8pzKJ",
        "outputId": "58fb6d83-165b-4322-f211-73af77a7cb51"
      },
      "execution_count": null,
      "outputs": [
        {
          "output_type": "stream",
          "name": "stdout",
          "text": [
            "One number is greater than 50\n"
          ]
        }
      ]
    },
    {
      "cell_type": "code",
      "source": [
        "# 9) Write a Python program to convert user input from string to integer, float, and boolean types.\n",
        "\n",
        "integer_value = input(\"Enter the number\")\n",
        "float_value = input(\"Enter the float number\")\n",
        "boolean_value = input(\"Enter the boolean value\")\n",
        "\n",
        "print(type(integer_value))\n",
        "print(type(float_value))\n",
        "print(type(boolean_value))\n",
        "\n",
        "i = int(integer_value)\n",
        "f = float(float_value)\n",
        "b = bool(boolean_value)\n",
        "\n",
        "print(type(i))\n",
        "print(type(f))\n",
        "print(type(b))"
      ],
      "metadata": {
        "colab": {
          "base_uri": "https://localhost:8080/"
        },
        "id": "gsS-ql0FrZDu",
        "outputId": "77838d5e-5189-44b8-e88c-4bf5f6181b23"
      },
      "execution_count": null,
      "outputs": [
        {
          "output_type": "stream",
          "name": "stdout",
          "text": [
            "Enter the number45\n",
            "Enter the float number4.2\n",
            "Enter the boolean valueTrue\n",
            "<class 'str'>\n",
            "<class 'str'>\n",
            "<class 'str'>\n",
            "<class 'int'>\n",
            "<class 'float'>\n",
            "<class 'bool'>\n"
          ]
        }
      ]
    },
    {
      "cell_type": "code",
      "source": [
        "# 10) Write code to demonstrate type casting with list elements.\n",
        "\n",
        "\n",
        "str_list = [\"5\", \"9\", \"8\"]\n",
        "print(str_list)\n",
        "int_list = []\n",
        "\n",
        "for i in str_list:\n",
        "  print(type(i))\n",
        "  j = int(i)\n",
        "  print(type(j))\n",
        "  int_list.append(j)\n",
        "\n",
        "print(int_list)\n",
        "\n"
      ],
      "metadata": {
        "colab": {
          "base_uri": "https://localhost:8080/"
        },
        "id": "1vG88SOEPan8",
        "outputId": "ce16f174-7b8b-400e-d542-9bf178378b18"
      },
      "execution_count": 4,
      "outputs": [
        {
          "output_type": "stream",
          "name": "stdout",
          "text": [
            "['5', '9', '8']\n",
            "<class 'str'>\n",
            "<class 'int'>\n",
            "<class 'str'>\n",
            "<class 'int'>\n",
            "<class 'str'>\n",
            "<class 'int'>\n",
            "[5, 9, 8]\n"
          ]
        }
      ]
    },
    {
      "cell_type": "code",
      "source": [
        "# 11) Write a program that checks if a number is positive, negative, or zero.\n",
        "\n",
        "a = int(input(\"Enter the number\"))\n",
        "\n",
        "if (a > 0):\n",
        "  print(\"Positive Number\")\n",
        "elif (a < 0):\n",
        "  print(\"Negative Number\")\n",
        "else:\n",
        "  print(\"Zero\")"
      ],
      "metadata": {
        "colab": {
          "base_uri": "https://localhost:8080/"
        },
        "id": "KxKPMtXFQuDi",
        "outputId": "3fdef9cc-8d05-4b61-ad02-8c878a79c376"
      },
      "execution_count": 7,
      "outputs": [
        {
          "output_type": "stream",
          "name": "stdout",
          "text": [
            "Enter the number45\n",
            "Positive Number\n"
          ]
        }
      ]
    },
    {
      "cell_type": "code",
      "source": [
        "# 12)  Write a for loop to print numbers from 1 to 10.\n",
        "\n",
        "for i in range(1, 11):\n",
        "  {\n",
        "  print(i)\n",
        "  }\n",
        ""
      ],
      "metadata": {
        "colab": {
          "base_uri": "https://localhost:8080/"
        },
        "id": "vh-AwaijRR2I",
        "outputId": "c6cf6a6f-b4ee-47e2-ddca-d34dd146c4ac"
      },
      "execution_count": 11,
      "outputs": [
        {
          "output_type": "stream",
          "name": "stdout",
          "text": [
            "1\n",
            "2\n",
            "3\n",
            "4\n",
            "5\n",
            "6\n",
            "7\n",
            "8\n",
            "9\n",
            "10\n"
          ]
        }
      ]
    },
    {
      "cell_type": "code",
      "source": [
        "# 13) Write a Python program to find the sum of all even numbers between 1 and 50.\n",
        "\n",
        "sum = 0\n",
        "for i in range(1, 51):\n",
        "  if (i % 2 == 0):\n",
        "    sum = sum + i\n",
        "print(sum)"
      ],
      "metadata": {
        "colab": {
          "base_uri": "https://localhost:8080/"
        },
        "id": "GvlhhfpkRnf5",
        "outputId": "4ca6fce6-9274-49d6-deea-b66bb4412e94"
      },
      "execution_count": 17,
      "outputs": [
        {
          "output_type": "stream",
          "name": "stdout",
          "text": [
            "650\n"
          ]
        }
      ]
    },
    {
      "cell_type": "code",
      "source": [
        "# 14) Write a program to reverse a string using a while loop.\n",
        "\n",
        "s = input(\"Enter the word\")\n",
        "l = len(s)\n",
        "rev_str = \" \"\n",
        "\n",
        "while l > 0:\n",
        "  rev_str = rev_str + s[l-1]\n",
        "  l = l - 1\n",
        "\n",
        "print(rev_str)"
      ],
      "metadata": {
        "colab": {
          "base_uri": "https://localhost:8080/"
        },
        "id": "wqX-VNHgSGQX",
        "outputId": "4e6993a6-2bfb-4131-91cd-1c22e67490de"
      },
      "execution_count": 28,
      "outputs": [
        {
          "output_type": "stream",
          "name": "stdout",
          "text": [
            "Enter the wordcoding\n",
            " gnidoc\n"
          ]
        }
      ]
    },
    {
      "cell_type": "code",
      "source": [
        "# 15) Write a Python program to calculate the factorial of a number provided by the user using a while loop.\n",
        "\n",
        "n = int(input(\"Enter the number whose factorial is to be calculated\"))\n",
        "i = 1\n",
        "fact = 1\n",
        "\n",
        "while i <= n:\n",
        "  fact = fact * i\n",
        "  i = i + 1\n",
        "\n",
        "print(fact)"
      ],
      "metadata": {
        "colab": {
          "base_uri": "https://localhost:8080/"
        },
        "id": "YhqrgkInVLlM",
        "outputId": "ee71e199-2628-4fc1-9d13-bd8c98fedcd0"
      },
      "execution_count": 33,
      "outputs": [
        {
          "output_type": "stream",
          "name": "stdout",
          "text": [
            "Enter the number whose factorial is to be calculated 6\n",
            "720\n"
          ]
        }
      ]
    }
  ]
}